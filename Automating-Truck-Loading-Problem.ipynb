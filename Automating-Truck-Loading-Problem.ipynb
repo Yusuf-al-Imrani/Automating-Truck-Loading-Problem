{
 "cells": [
  {
   "cell_type": "markdown",
   "metadata": {},
   "source": [
    "> #### About:\n",
    "> ### An algorithm for a logistics company that has to serve its customers by selecting the set of orders that will optimize the truck volume capacity as well as optimizing the shortest route"
   ]
  },
  {
   "cell_type": "markdown",
   "metadata": {},
   "source": [
    " "
   ]
  },
  {
   "cell_type": "markdown",
   "metadata": {},
   "source": [
    " "
   ]
  },
  {
   "cell_type": "markdown",
   "metadata": {},
   "source": [
    "### We need to solve two interrelated phases in this project:  \n",
    "__First phases__: Allocating and puting products in truck:  \n",
    "__(i)__ Pallet Building Phase. All layers of products have to be placed on pallets.  \n",
    "__(ii)__ Truck Loading Phase. All pallets have to placed in one\n",
    "of the trucks.  \n",
    "  \n",
    "__Second phases__: Choosing the best routing for trucks to deliver to clients:  \n",
    "__(i)__  \n",
    "__(ii)__  "
   ]
  },
  {
   "cell_type": "markdown",
   "metadata": {},
   "source": [
    " "
   ]
  },
  {
   "cell_type": "markdown",
   "metadata": {},
   "source": [
    " "
   ]
  },
  {
   "cell_type": "markdown",
   "metadata": {},
   "source": [
    "#### We have some constrains and here they are:  \n",
    "__I Products__  \n",
    "1- Total products volume and Truck Capacity  \n",
    "2- Total products wight and Truck Capacity   \n",
    "3- Products Stackabiliy (or load bearing)  \n",
    "4- Maximum number of Products in the truck  \n",
    "5- Products orders serving same truck destination zone  \n",
    "6- Stability(verticala and static Stability)  \n",
    "   \n",
    "__II Truck Route__  \n",
    "1- Minimum Route  \n",
    "2- Minimum Time  \n"
   ]
  },
  {
   "cell_type": "markdown",
   "metadata": {},
   "source": [
    " "
   ]
  },
  {
   "cell_type": "markdown",
   "metadata": {},
   "source": [
    "* Pallet Buildin:\n",
    "  - (i) Priority Constraint.  \n",
    "  - (ii) Stability Constraint.  \n",
    "  - (iii) Stackability Constraint.\n",
    "* Truck Loading  \n",
    "* Objective"
   ]
  },
  {
   "cell_type": "markdown",
   "metadata": {},
   "source": [
    " "
   ]
  },
  {
   "cell_type": "markdown",
   "metadata": {},
   "source": [
    "The problem begins when a depot sends a set of orders for the upcoming  \n",
    "days 𝑑 ∈ 1, . . . , 𝐷 . For each day 𝑑, the order consists of a list of  \n",
    "products 𝑗, 𝑗 ∈ 1, . . . , 𝐽 , with their required number of items for this day, 𝑎𝑗𝑑. The products have to be served that day, or before, but not later. Each product is defined by its dimensions  \n",
    "(𝑥𝑗, 𝑦 𝑗, 𝑧 𝑗), its weight 𝑤𝑗, and its possible rotations (𝑟𝑥𝑗, 𝑟𝑦 𝑗, 𝑟𝑧 𝑗),  \n",
    "where 𝑟𝑥𝑗 = 1 if the dimension 𝑥𝑗 of the product can be upward. "
   ]
  },
  {
   "cell_type": "markdown",
   "metadata": {},
   "source": []
  },
  {
   "cell_type": "markdown",
   "metadata": {},
   "source": []
  },
  {
   "cell_type": "code",
   "execution_count": null,
   "metadata": {},
   "outputs": [],
   "source": []
  },
  {
   "cell_type": "code",
   "execution_count": 1,
   "metadata": {},
   "outputs": [],
   "source": [
    "import pandas as pd\n",
    "import numpy as np\n",
    "from rectpack import newPacker\n",
    "import rectpack.packer as packer\n",
    "import matplotlib.pyplot as plt"
   ]
  },
  {
   "cell_type": "markdown",
   "metadata": {},
   "source": [
    "### Variables meanings:\n",
    "\n",
    "n_car_1: number of cartons of diemension 1  \n",
    "n_car_2: number of cartons of diemension 2  \n",
    "  .  \n",
    "n_car_n: number of cartons of diemension n  \n",
    "\n",
    " ---\n",
    " \n",
    "car_1: dimensions of carton_1  \n",
    "car_2: dimensions of carton_2  \n",
    "  .  \n",
    "car_n: dimensions of carton_n  "
   ]
  },
  {
   "cell_type": "code",
   "execution_count": 2,
   "metadata": {},
   "outputs": [],
   "source": [
    "# Cartons Count\n",
    "\n",
    "\n",
    "#Cartons dimensinos\n",
    "#asuming that the inventory has 3 types of cartons with dimensions of 50*50, 50*60 cm, and 40*80\n",
    "\n",
    "bx = 0 #buffer for acrton (if needed)\n",
    "by = 0 #buffer for acrton (if needed)\n",
    "cart_1 = [50 + bx, 50 + by]\n",
    "\n",
    "bx = 0\n",
    "by = 0\n",
    "cart_2 = [50 + bx, 60 + by]\n",
    "\n",
    "bx = 0\n",
    "by = 0\n",
    "cart_3 = [40 + bx, 80 + by]\n",
    "\"\"\"\n",
    " .\n",
    "bx = 0\n",
    "by = 0\n",
    "cart_n = [n_x + bx, n_y + by]\"\"\"\n",
    "\n",
    "\n",
    "\n",
    "# Number of Cartons\n",
    "n_cart_1 = 14\n",
    "n_cart_2 = 10 \n",
    "rectangles = [cart_1 for i in range(n_cart_1)] + [cart_2 for i in range(n_cart_2)]\n",
    "\n",
    "\n",
    "# Trucks dimensions\n",
    "\"\"\"\n",
    "         length\twidth\theight\n",
    "Truck_1 = 230 \t170 \t165\n",
    "Truck_2 = 200 \t100 \t115\n",
    "\"\"\"\n",
    "# *Taking length and width only for now.\n",
    "\n",
    "truck_1 = [(230, 170)] \n",
    "truck_2 = [(200, 100)] \n"
   ]
  },
  {
   "cell_type": "code",
   "execution_count": 3,
   "metadata": {},
   "outputs": [],
   "source": [
    "# Function Loader\n",
    "\n",
    "#trucks: number of availble trucks' dimensions\n",
    "\n",
    "def loader(cart_1, cart_2, n_cart_1, n_cart_2, trucks): \n",
    "    \n",
    "    #laod the cartons of type cart_1 and cart_2\n",
    "    rectangles = [cart_1 for i in range(n_cart_1)] + [cart_2 for i in range(n_cart_2)]\n",
    "    \n",
    "    # Build the Packer\n",
    "    pack = newPacker(mode = packer.PackingMode.Offline, bin_algo = packer.PackingBin.Global,\n",
    "                     rotation=True)\n",
    "\n",
    "    # Add the rectangles to packing queue\n",
    "    for r in rectangles:\n",
    "        pack.add_rect(*r)\n",
    "\n",
    "    # Add the trucks where the cartons will be placed\n",
    "    for t in trucks:\n",
    "        pack.add_bin(*t)\n",
    "\n",
    "    # Start packing\n",
    "    pack.pack()\n",
    "    \n",
    "    # Full rectangle list\n",
    "    all_rects = pack.rect_list()\n",
    "\n",
    "    # cartons with dimensions\n",
    "    all_cartons = [sorted([r[3], r[4]]) for r in all_rects]\n",
    "\n",
    "    # Count number of cartons that been loaded in the truck\n",
    "    cart_1, cart_2 = all_cartons.count(cart_1), all_cartons.count(cart_2)\n",
    "    print(\"{:,}/{:,} cartons 50 x 50 (cm) | {:,}/{:,} cartons 50 x 60\" +\n",
    "          \"(cm)\".format(cart_1, n_cart_1, cart_2, n_cart_2, ))\n",
    "    \n",
    "    return all_rects, all_cartons"
   ]
  },
  {
   "cell_type": "code",
   "execution_count": 4,
   "metadata": {},
   "outputs": [],
   "source": [
    "def plot_solution(all_rects, cart_1, cart_2):\n",
    "    # Plot\n",
    "    plt.figure(figsize=(15,9))\n",
    "    # Loop all rect\n",
    "    for rect in all_rects:\n",
    "        b, x, y, w, h, rid = rect\n",
    "        x1, x2, x3, x4, x5 = x, x+w, x+w, x, x\n",
    "        y1, y2, y3, y4, y5 = y, y, y+h, y+h,y\n",
    "\n",
    "        # Carton type\n",
    "        if [w, h] == cart_1:\n",
    "            color = '--r'\n",
    "        else:\n",
    "            color = '--b'\n",
    "\n",
    "        plt.plot([x1,x2,x3,x4,x5],[y1,y2,y3,y4,y5], color)\n",
    "    \n",
    "    plt.show()"
   ]
  },
  {
   "cell_type": "code",
   "execution_count": 5,
   "metadata": {},
   "outputs": [
    {
     "name": "stdout",
     "output_type": "stream",
     "text": [
      "{:,}/{:,} cartons 50 x 50 (cm) | {:,}/{:,} cartons 50 x 60(cm)\n"
     ]
    },
    {
     "data": {
      "image/png": "[encoded data removed]",
      "text/plain": [
       "<Figure size 1080x648 with 1 Axes>"
      ]
     },
     "metadata": {
      "needs_background": "light"
     },
     "output_type": "display_data"
    }
   ],
   "source": [
    "# Test with truck_1(230*170 cm)\n",
    "\n",
    "n_cart_1 = 5\n",
    "n_cart_2 = 8\n",
    "n_cart_3= 5\n",
    "all_rects, all_cartons = loader(cart_1, cart_2, n_cart_1, n_cart_2, truck_1)\n",
    "plot_solution(all_rects, cart_1, cart_2)"
   ]
  },
  {
   "cell_type": "code",
   "execution_count": 6,
   "metadata": {},
   "outputs": [
    {
     "name": "stdout",
     "output_type": "stream",
     "text": [
      "{:,}/{:,} cartons 50 x 50 (cm) | {:,}/{:,} cartons 50 x 60(cm)\n"
     ]
    },
    {
     "data": {
      "image/png": "[encoded data removed]",
      "text/plain": [
       "<Figure size 1080x648 with 1 Axes>"
      ]
     },
     "metadata": {
      "needs_background": "light"
     },
     "output_type": "display_data"
    }
   ],
   "source": [
    "# Test with truck_2 (200*100 cm)\n",
    "\n",
    "n_cart_1 = 13\n",
    "n_cart_2 = 8\n",
    "all_rects, all_cartons = loader(cart_1, cart_2, n_cart_1, n_cart_2, truck_2)\n",
    "plot_solution(all_rects, cart_1, cart_2)"
   ]
  },
  {
   "cell_type": "code",
   "execution_count": null,
   "metadata": {},
   "outputs": [],
   "source": []
  },
  {
   "cell_type": "markdown",
   "metadata": {},
   "source": [
    "The solution needs investigation specially it exceeds the dimension of the truck for test 1"
   ]
  },
  {
   "cell_type": "markdown",
   "metadata": {},
   "source": [
    "to be continued..."
   ]
  },
  {
   "cell_type": "code",
   "execution_count": null,
   "metadata": {},
   "outputs": [],
   "source": []
  },
  {
   "cell_type": "code",
   "execution_count": null,
   "metadata": {},
   "outputs": [],
   "source": []
  },
  {
   "cell_type": "code",
   "execution_count": null,
   "metadata": {},
   "outputs": [],
   "source": []
  },
  {
   "cell_type": "code",
   "execution_count": null,
   "metadata": {},
   "outputs": [],
   "source": []
  },
  {
   "cell_type": "code",
   "execution_count": null,
   "metadata": {},
   "outputs": [],
   "source": []
  }
 ],
 "metadata": {
  "kernelspec": {
   "display_name": "Python 3",
   "language": "python",
   "name": "python3"
  },
  "language_info": {
   "codemirror_mode": {
    "name": "ipython",
    "version": 3
   },
   "file_extension": ".py",
   "mimetype": "text/x-python",
   "name": "python",
   "nbconvert_exporter": "python",
   "pygments_lexer": "ipython3",
   "version": "3.7.6"
  }
 },
 "nbformat": 4,
 "nbformat_minor": 4
}
